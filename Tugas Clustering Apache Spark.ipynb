{
 "cells": [
  {
   "cell_type": "markdown",
   "metadata": {},
   "source": [
    "### Description of dataset\n",
    "* Dataset's name: [Daily Historical Stock Prices (1970 - 2018)](https://www.kaggle.com/ehallmar/daily-historical-stock-prices-1970-2018)\n",
    "* Description: Historical stock prices for several thousand unique stock tickers"
   ]
  },
  {
   "cell_type": "markdown",
   "metadata": {},
   "source": [
    "### 1. Import findspark to read SPARK_HOME and HADOOP_HOME"
   ]
  },
  {
   "cell_type": "code",
   "execution_count": 1,
   "metadata": {},
   "outputs": [],
   "source": [
    "# Import findspark to read SPARK_HOME and HADOOP_HOME\n",
    "import findspark\n",
    "\n",
    "findspark.init()"
   ]
  },
  {
   "cell_type": "code",
   "execution_count": 2,
   "metadata": {},
   "outputs": [
    {
     "name": "stdout",
     "output_type": "stream",
     "text": [
      "<pyspark.sql.session.SparkSession object at 0x0B2968B0>\n"
     ]
    }
   ],
   "source": [
    "# Import required library\n",
    "from pyspark.sql import SparkSession\n",
    "from pyspark.ml.feature import VectorAssembler\n",
    "from pyspark.ml.clustering import KMeans\n",
    "from pyspark.ml.evaluation import ClusteringEvaluator\n",
    "\n",
    "# Create Spark Session\n",
    "spark = SparkSession \\\n",
    "    .builder \\\n",
    "    .appName(\"Python Spark Clustering\") \\\n",
    "    .getOrCreate()\n",
    "# Print Spark object ID\n",
    "print(spark)"
   ]
  },
  {
   "cell_type": "code",
   "execution_count": 3,
   "metadata": {},
   "outputs": [],
   "source": [
    "df = spark.read.csv(\"D://Documents//Semester_8//Apache-Spark//historical_stock_prices.csv\", header=True)"
   ]
  },
  {
   "cell_type": "code",
   "execution_count": 4,
   "metadata": {},
   "outputs": [
    {
     "name": "stdout",
     "output_type": "stream",
     "text": [
      "+------+----------------+----------------+----------------+----------------+----------------+-------+----------+\n",
      "|ticker|            open|           close|       adj_close|             low|            high| volume|      date|\n",
      "+------+----------------+----------------+----------------+----------------+----------------+-------+----------+\n",
      "|   AHH|            11.5|11.5799999237061|8.49315452575684|           11.25|11.6800003051758|4633900|2013-05-08|\n",
      "|   AHH|11.6599998474121|11.5500001907349|8.47115135192871|            11.5|11.6599998474121| 275800|2013-05-09|\n",
      "|   AHH|11.5500001907349|11.6000003814697|8.50782203674316|            11.5|11.6000003814697| 277100|2013-05-10|\n",
      "|   AHH|11.6300001144409|11.6499996185303|8.54449367523193|11.5500001907349|11.6499996185303| 147400|2013-05-13|\n",
      "|   AHH|11.6000003814697|11.5299997329712|8.45648384094238|            11.5|11.6000003814697| 184100|2013-05-14|\n",
      "|   AHH|11.6000003814697|11.6000003814697|8.50782203674316| 11.539999961853|11.6000003814697|  76800|2013-05-15|\n",
      "|   AHH|11.6199998855591|11.7399997711182|8.61050128936768| 11.539999961853|11.7399997711182| 170300|2013-05-16|\n",
      "|   AHH|11.6999998092651|11.7600002288818|8.62517166137695|11.6999998092651|11.8500003814697| 305400|2013-05-17|\n",
      "|   AHH|11.7600002288818|11.7299995422363|8.60316944122314|11.6300001144409|11.8299999237061|  46800|2013-05-20|\n",
      "|   AHH|11.7600002288818|11.8299999237061|8.67651176452637|11.6099996566772|11.8400001525879|  77000|2013-05-21|\n",
      "|   AHH|11.8400001525879|           11.75|8.61783981323242|11.6800003051758|11.8400001525879|  90200|2013-05-22|\n",
      "|   AHH|11.6400003433228|11.6099996566772|8.51515579223633| 11.539999961853| 11.789999961853|  75400|2013-05-23|\n",
      "|   AHH|11.5699996948242|11.6999998092651|8.58116626739502|11.5500001907349|11.7299995422363|  63400|2013-05-24|\n",
      "|   AHH|11.7299995422363|11.5799999237061|8.49315452575684|11.5699996948242|11.7799997329712| 212400|2013-05-28|\n",
      "|   AHH|11.5100002288818|           11.25|8.25112056732178|11.1999998092651|11.6700000762939| 447000|2013-05-29|\n",
      "|   AHH|11.5799999237061|11.5500001907349|8.47115135192871|11.4700002670288|11.6499996185303| 453300|2013-05-30|\n",
      "|   AHH|11.6000003814697|11.4700002670288| 8.4124755859375|11.4700002670288|11.8000001907349| 109400|2013-05-31|\n",
      "|   AHH|11.6800003051758|11.5200004577637| 8.4491491317749|11.3000001907349|11.6800003051758| 143200|2013-06-03|\n",
      "|   AHH|11.5600004196167|11.5100002288818|8.44181537628174| 11.460000038147|11.6300001144409| 115000|2013-06-04|\n",
      "|   AHH|11.5799999237061|11.5500001907349|8.47115135192871|           11.25|11.5900001525879|  78100|2013-06-05|\n",
      "+------+----------------+----------------+----------------+----------------+----------------+-------+----------+\n",
      "only showing top 20 rows\n",
      "\n"
     ]
    }
   ],
   "source": [
    "df.show()"
   ]
  },
  {
   "cell_type": "code",
   "execution_count": 5,
   "metadata": {},
   "outputs": [
    {
     "data": {
      "text/plain": [
       "20973889"
      ]
     },
     "execution_count": 5,
     "metadata": {},
     "output_type": "execute_result"
    }
   ],
   "source": [
    "df.count()"
   ]
  },
  {
   "cell_type": "code",
   "execution_count": 6,
   "metadata": {},
   "outputs": [
    {
     "name": "stdout",
     "output_type": "stream",
     "text": [
      "root\n",
      " |-- ticker: string (nullable = true)\n",
      " |-- open: string (nullable = true)\n",
      " |-- close: string (nullable = true)\n",
      " |-- adj_close: string (nullable = true)\n",
      " |-- low: string (nullable = true)\n",
      " |-- high: string (nullable = true)\n",
      " |-- volume: string (nullable = true)\n",
      " |-- date: string (nullable = true)\n",
      "\n"
     ]
    }
   ],
   "source": [
    "df.printSchema()"
   ]
  },
  {
   "cell_type": "code",
   "execution_count": 7,
   "metadata": {},
   "outputs": [],
   "source": [
    "df.createOrReplaceTempView(\"stock\")"
   ]
  },
  {
   "cell_type": "markdown",
   "metadata": {},
   "source": [
    "### 2. Prepare dataset for clustering"
   ]
  },
  {
   "cell_type": "code",
   "execution_count": 8,
   "metadata": {},
   "outputs": [],
   "source": [
    "df_num = df.select(df.ticker.cast(\"string\"),\n",
    "                   df.open.cast(\"float\"),\n",
    "                   df.close.cast(\"float\"),\n",
    "                   df.adj_close.cast(\"float\"),\n",
    "                   df.low.cast(\"float\"),\n",
    "                   df.high.cast(\"float\"),\n",
    "                   df.volume.cast(\"int\"),\n",
    "                   df.date.cast(\"date\"))"
   ]
  },
  {
   "cell_type": "code",
   "execution_count": 9,
   "metadata": {},
   "outputs": [
    {
     "name": "stdout",
     "output_type": "stream",
     "text": [
      "root\n",
      " |-- ticker: string (nullable = true)\n",
      " |-- open: float (nullable = true)\n",
      " |-- close: float (nullable = true)\n",
      " |-- adj_close: float (nullable = true)\n",
      " |-- low: float (nullable = true)\n",
      " |-- high: float (nullable = true)\n",
      " |-- volume: integer (nullable = true)\n",
      " |-- date: date (nullable = true)\n",
      "\n"
     ]
    }
   ],
   "source": [
    "df_num.printSchema()"
   ]
  },
  {
   "cell_type": "code",
   "execution_count": 10,
   "metadata": {},
   "outputs": [],
   "source": [
    "df_num.createOrReplaceTempView(\"stock_num\")"
   ]
  },
  {
   "cell_type": "code",
   "execution_count": 11,
   "metadata": {
    "scrolled": true
   },
   "outputs": [],
   "source": [
    "df_cluster = spark.sql(\"select `ticker`, avg(`open`), avg(`close`) \\\n",
    "            from stock_num \\\n",
    "            where `date` like '2017%' \\\n",
    "            group by `ticker` \\\n",
    "            order by `ticker` asc\")"
   ]
  },
  {
   "cell_type": "code",
   "execution_count": 12,
   "metadata": {},
   "outputs": [
    {
     "name": "stdout",
     "output_type": "stream",
     "text": [
      "+------+------------------+------------------+\n",
      "|ticker|         avg(open)|        avg(close)|\n",
      "+------+------------------+------------------+\n",
      "|     A|59.322270837912995| 59.32968129009839|\n",
      "|    AA| 38.25270930894342|38.301673304037266|\n",
      "|  AABA| 56.45780884032231| 56.49183264196631|\n",
      "|   AAL|47.498047710889836| 47.49071721536705|\n",
      "|  AAME|3.6289565283319223|3.6226956543715105|\n",
      "|   AAN| 36.58992027191527| 36.57764934828557|\n",
      "|  AAOI| 53.21123504638672|53.216573806397946|\n",
      "|  AAON| 34.98466139865587| 34.99262951094791|\n",
      "|   AAP|122.74330631575262|122.57486071339642|\n",
      "|  AAPL|150.44490045190332|150.55107548322334|\n",
      "|   AAT|40.838207108091076| 40.81657373192776|\n",
      "|   AAV| 6.087211140598434| 6.077091625487187|\n",
      "|  AAWW| 57.03087649402391| 57.05115536389598|\n",
      "|  AAXJ| 68.05378504293374| 68.06992036127949|\n",
      "|  AAXN|24.090119555651903|24.105298768001724|\n",
      "|    AB|23.712549855509604|23.730478096768202|\n",
      "|  ABAC|2.6382470078677294| 2.629641426986907|\n",
      "|  ABAX|48.509521864324924| 48.51896412154118|\n",
      "|   ABB| 24.22119525894226| 24.25123504243524|\n",
      "|  ABBV| 75.06549813927882|   75.165298735478|\n",
      "+------+------------------+------------------+\n",
      "only showing top 20 rows\n",
      "\n"
     ]
    }
   ],
   "source": [
    "df_cluster.show()"
   ]
  },
  {
   "cell_type": "code",
   "execution_count": 19,
   "metadata": {},
   "outputs": [
    {
     "name": "stdout",
     "output_type": "stream",
     "text": [
      "+------+------------------+------------------+--------------------+\n",
      "|ticker|         avg(open)|        avg(close)|            features|\n",
      "+------+------------------+------------------+--------------------+\n",
      "|     A|59.322270837912995| 59.32968129009839|[59.3222708379129...|\n",
      "|    AA| 38.25270930894342|38.301673304037266|[38.2527093089434...|\n",
      "|  AABA| 56.45780884032231| 56.49183264196631|[56.4578088403223...|\n",
      "|   AAL|47.498047710889836| 47.49071721536705|[47.4980477108898...|\n",
      "|  AAME|3.6289565283319223|3.6226956543715105|[3.62895652833192...|\n",
      "|   AAN| 36.58992027191527| 36.57764934828557|[36.5899202719152...|\n",
      "|  AAOI| 53.21123504638672|53.216573806397946|[53.2112350463867...|\n",
      "|  AAON| 34.98466139865587| 34.99262951094791|[34.9846613986558...|\n",
      "|   AAP|122.74330631575262|122.57486071339642|[122.743306315752...|\n",
      "|  AAPL|150.44490045190332|150.55107548322334|[150.444900451903...|\n",
      "|   AAT|40.838207108091076| 40.81657373192776|[40.8382071080910...|\n",
      "|   AAV| 6.087211140598434| 6.077091625487187|[6.08721114059843...|\n",
      "|  AAWW| 57.03087649402391| 57.05115536389598|[57.0308764940239...|\n",
      "|  AAXJ| 68.05378504293374| 68.06992036127949|[68.0537850429337...|\n",
      "|  AAXN|24.090119555651903|24.105298768001724|[24.0901195556519...|\n",
      "|    AB|23.712549855509604|23.730478096768202|[23.7125498555096...|\n",
      "|  ABAC|2.6382470078677294| 2.629641426986907|[2.63824700786772...|\n",
      "|  ABAX|48.509521864324924| 48.51896412154118|[48.5095218643249...|\n",
      "|   ABB| 24.22119525894226| 24.25123504243524|[24.2211952589422...|\n",
      "|  ABBV| 75.06549813927882|   75.165298735478|[75.0654981392788...|\n",
      "+------+------------------+------------------+--------------------+\n",
      "only showing top 20 rows\n",
      "\n"
     ]
    }
   ],
   "source": [
    "vecAssembler = VectorAssembler(\n",
    "    inputCols=[\"avg(open)\", \"avg(close)\"],\n",
    "    outputCol=\"features\")\n",
    "data = vecAssembler.transform(df_cluster)\n",
    "data.show()"
   ]
  },
  {
   "cell_type": "markdown",
   "metadata": {},
   "source": [
    "### 3. Simple Clustering"
   ]
  },
  {
   "cell_type": "code",
   "execution_count": 20,
   "metadata": {},
   "outputs": [
    {
     "name": "stdout",
     "output_type": "stream",
     "text": [
      "Cluster Centers: \n",
      "[54.91665689 55.07530053]\n",
      "[227976.92307692 228908.54700855]\n"
     ]
    }
   ],
   "source": [
    "# Train Model\n",
    "kmeans = KMeans().setK(2).setSeed(1).setFeaturesCol(\"features\")\n",
    "model = kmeans.fit(data)\n",
    "centers = model.clusterCenters()\n",
    "\n",
    "print(\"Cluster Centers: \")\n",
    "for center in centers:\n",
    "    print(center)"
   ]
  },
  {
   "cell_type": "code",
   "execution_count": 21,
   "metadata": {},
   "outputs": [
    {
     "name": "stdout",
     "output_type": "stream",
     "text": [
      "+------+------------------+------------------+--------------------+----------+\n",
      "|ticker|         avg(open)|        avg(close)|            features|prediction|\n",
      "+------+------------------+------------------+--------------------+----------+\n",
      "|     A|59.322270837912995| 59.32968129009839|[59.3222708379129...|         0|\n",
      "|    AA| 38.25270930894342|38.301673304037266|[38.2527093089434...|         0|\n",
      "|  AABA| 56.45780884032231| 56.49183264196631|[56.4578088403223...|         0|\n",
      "|   AAL|47.498047710889836| 47.49071721536705|[47.4980477108898...|         0|\n",
      "|  AAME|3.6289565283319223|3.6226956543715105|[3.62895652833192...|         0|\n",
      "|   AAN| 36.58992027191527| 36.57764934828557|[36.5899202719152...|         0|\n",
      "|  AAOI| 53.21123504638672|53.216573806397946|[53.2112350463867...|         0|\n",
      "|  AAON| 34.98466139865587| 34.99262951094791|[34.9846613986558...|         0|\n",
      "|   AAP|122.74330631575262|122.57486071339642|[122.743306315752...|         0|\n",
      "|  AAPL|150.44490045190332|150.55107548322334|[150.444900451903...|         0|\n",
      "|   AAT|40.838207108091076| 40.81657373192776|[40.8382071080910...|         0|\n",
      "|   AAV| 6.087211140598434| 6.077091625487187|[6.08721114059843...|         0|\n",
      "|  AAWW| 57.03087649402391| 57.05115536389598|[57.0308764940239...|         0|\n",
      "|  AAXJ| 68.05378504293374| 68.06992036127949|[68.0537850429337...|         0|\n",
      "|  AAXN|24.090119555651903|24.105298768001724|[24.0901195556519...|         0|\n",
      "|    AB|23.712549855509604|23.730478096768202|[23.7125498555096...|         0|\n",
      "|  ABAC|2.6382470078677294| 2.629641426986907|[2.63824700786772...|         0|\n",
      "|  ABAX|48.509521864324924| 48.51896412154118|[48.5095218643249...|         0|\n",
      "|   ABB| 24.22119525894226| 24.25123504243524|[24.2211952589422...|         0|\n",
      "|  ABBV| 75.06549813927882|   75.165298735478|[75.0654981392788...|         0|\n",
      "+------+------------------+------------------+--------------------+----------+\n",
      "only showing top 20 rows\n",
      "\n"
     ]
    }
   ],
   "source": [
    "# Make a prediction\n",
    "predictions = model.transform(data)\n",
    "predictions.show()"
   ]
  },
  {
   "cell_type": "code",
   "execution_count": 22,
   "metadata": {},
   "outputs": [
    {
     "name": "stdout",
     "output_type": "stream",
     "text": [
      "Silhouette with squared euclidean distance = 0.9999804692864935\n"
     ]
    }
   ],
   "source": [
    "# Evaluate clustering by computing Silhouette score\n",
    "evaluator = ClusteringEvaluator()\n",
    "\n",
    "silhouette = evaluator.evaluate(predictions)\n",
    "print(\"Silhouette with squared euclidean distance = \" + str(silhouette))"
   ]
  },
  {
   "cell_type": "markdown",
   "metadata": {},
   "source": [
    "| k   | Silhouette score   |\n",
    "| --- | :----------------: |\n",
    "| 2   | 0.9999804692864935 |\n",
    "| 3   | 0.999532875131843  |\n",
    "| 5   | 0.9995817478006022 |\n",
    "| 7   | 0.9990897286086486 |\n",
    "| 9   | 0.9978445001328871 |\n",
    "| 11  | 0.9978445001328871 |\n",
    "| 13  | 0.9978445001328871 |"
   ]
  },
  {
   "cell_type": "markdown",
   "metadata": {},
   "source": [
    "### 4. Visualization Cluster"
   ]
  },
  {
   "cell_type": "code",
   "execution_count": 23,
   "metadata": {},
   "outputs": [],
   "source": [
    "# Import pixiedust to visualization cluster\n",
    "import pixiedust"
   ]
  },
  {
   "cell_type": "code",
   "execution_count": null,
   "metadata": {
    "pixiedust": {
     "displayParams": {
      "chartsize": "72",
      "handlerId": "scatterPlot",
      "keyFields": "avg(close)",
      "legend": "true",
      "mpld3": "false",
      "rowCount": "5000",
      "title": "Visualization CLuster",
      "valueFields": "avg(open)"
     }
    },
    "scrolled": true
   },
   "outputs": [
    {
     "data": {
      "text/html": [
       "<style type=\"text/css\">.pd_warning{display:none;}</style><div class=\"pd_warning\"><em>Hey, there's something awesome here! To see it, open this notebook outside GitHub, in a viewer like Jupyter</em></div><img style=\"max-width:initial !important\" src=\"data:image/png;base64,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\" class=\"pd_save is-viewer-good\">"
      ],
      "text/plain": [
       "<IPython.core.display.HTML object>"
      ]
     },
     "metadata": {},
     "output_type": "display_data"
    }
   ],
   "source": [
    "display(predictions)"
   ]
  },
  {
   "cell_type": "markdown",
   "metadata": {},
   "source": [
    "![cluster](images/cluster.png)"
   ]
  },
  {
   "cell_type": "code",
   "execution_count": null,
   "metadata": {},
   "outputs": [],
   "source": []
  }
 ],
 "metadata": {
  "kernelspec": {
   "display_name": "Python 3",
   "language": "python",
   "name": "python3"
  },
  "language_info": {
   "codemirror_mode": {
    "name": "ipython",
    "version": 3
   },
   "file_extension": ".py",
   "mimetype": "text/x-python",
   "name": "python",
   "nbconvert_exporter": "python",
   "pygments_lexer": "ipython3",
   "version": "3.7.2"
  }
 },
 "nbformat": 4,
 "nbformat_minor": 2
}
