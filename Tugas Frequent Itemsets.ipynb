{
 "cells": [
  {
   "cell_type": "markdown",
   "metadata": {},
   "source": [
    "### Description of dataset\n",
    "* Dataset's name: [Instacart Market Basket Analysis](https://www.kaggle.com/c/instacart-market-basket-analysis)\n",
    "* Description: Which products will an Instacart consumer purchase again?"
   ]
  },
  {
   "cell_type": "markdown",
   "metadata": {},
   "source": [
    "### 1. Prepare dataset"
   ]
  },
  {
   "cell_type": "code",
   "execution_count": 1,
   "metadata": {},
   "outputs": [],
   "source": [
    "import findspark\n",
    "findspark.init()"
   ]
  },
  {
   "cell_type": "code",
   "execution_count": 2,
   "metadata": {},
   "outputs": [
    {
     "name": "stdout",
     "output_type": "stream",
     "text": [
      "<pyspark.sql.session.SparkSession object at 0x0000016E68243A20>\n"
     ]
    }
   ],
   "source": [
    "from pyspark.sql import SparkSession\n",
    "from pyspark.ml.fpm import FPGrowth\n",
    "spark = SparkSession \\\n",
    "    .builder \\\n",
    "    .appName(\"Frequent Itemsets\") \\\n",
    "    .getOrCreate()\n",
    "print(spark)"
   ]
  },
  {
   "cell_type": "code",
   "execution_count": 3,
   "metadata": {},
   "outputs": [
    {
     "name": "stdout",
     "output_type": "stream",
     "text": [
      "+----------+-----------------------------------------------------------------+\n",
      "|product_id|product_name                                                     |\n",
      "+----------+-----------------------------------------------------------------+\n",
      "|1         |Chocolate Sandwich Cookies                                       |\n",
      "|2         |All-Seasons Salt                                                 |\n",
      "|3         |Robust Golden Unsweetened Oolong Tea                             |\n",
      "|4         |Smart Ones Classic Favorites Mini Rigatoni With Vodka Cream Sauce|\n",
      "|5         |Green Chile Anytime Sauce                                        |\n",
      "|6         |Dry Nose Oil                                                     |\n",
      "|7         |Pure Coconut Water With Orange                                   |\n",
      "|8         |Cut Russet Potatoes Steam N' Mash                                |\n",
      "|9         |Light Strawberry Blueberry Yogurt                                |\n",
      "|10        |Sparkling Orange Juice & Prickly Pear Beverage                   |\n",
      "|11        |Peach Mango Juice                                                |\n",
      "|12        |Chocolate Fudge Layer Cake                                       |\n",
      "|13        |Saline Nasal Mist                                                |\n",
      "|14        |Fresh Scent Dishwasher Cleaner                                   |\n",
      "|15        |Overnight Diapers Size 6                                         |\n",
      "|16        |Mint Chocolate Flavored Syrup                                    |\n",
      "|17        |Rendered Duck Fat                                                |\n",
      "|18        |Pizza for One Suprema  Frozen Pizza                              |\n",
      "|19        |Gluten Free Quinoa Three Cheese & Mushroom Blend                 |\n",
      "|20        |Pomegranate Cranberry & Aloe Vera Enrich Drink                   |\n",
      "+----------+-----------------------------------------------------------------+\n",
      "only showing top 20 rows\n",
      "\n",
      "root\n",
      " |-- product_id: string (nullable = true)\n",
      " |-- product_name: string (nullable = true)\n",
      "\n"
     ]
    }
   ],
   "source": [
    "products = spark.read.csv(\"D://Documents//Semester_8//Apache-Spark//instacart-market-basket-analysis//products.csv\", header=True).select(\"product_id\", \"product_name\")\n",
    "products.show(20, False)\n",
    "products.printSchema()\n",
    "products.createOrReplaceTempView(\"products\")"
   ]
  },
  {
   "cell_type": "code",
   "execution_count": 4,
   "metadata": {},
   "outputs": [
    {
     "name": "stdout",
     "output_type": "stream",
     "text": [
      "+--------+----------+\n",
      "|order_id|product_id|\n",
      "+--------+----------+\n",
      "|       2|     33120|\n",
      "|       2|     28985|\n",
      "|       2|      9327|\n",
      "|       2|     45918|\n",
      "|       2|     30035|\n",
      "|       2|     17794|\n",
      "|       2|     40141|\n",
      "|       2|      1819|\n",
      "|       2|     43668|\n",
      "|       3|     33754|\n",
      "|       3|     24838|\n",
      "|       3|     17704|\n",
      "|       3|     21903|\n",
      "|       3|     17668|\n",
      "|       3|     46667|\n",
      "|       3|     17461|\n",
      "|       3|     32665|\n",
      "|       4|     46842|\n",
      "|       4|     26434|\n",
      "|       4|     39758|\n",
      "+--------+----------+\n",
      "only showing top 20 rows\n",
      "\n",
      "root\n",
      " |-- order_id: string (nullable = true)\n",
      " |-- product_id: string (nullable = true)\n",
      "\n"
     ]
    }
   ],
   "source": [
    "transactions = spark.read.csv(\"D://Documents//Semester_8//Apache-Spark//instacart-market-basket-analysis//order_products__prior.csv\", header=True).select(\"order_id\", \"product_id\")\n",
    "transactions.show()\n",
    "transactions.printSchema()\n",
    "transactions.createOrReplaceTempView(\"transactions\")"
   ]
  },
  {
   "cell_type": "code",
   "execution_count": 5,
   "metadata": {},
   "outputs": [
    {
     "name": "stdout",
     "output_type": "stream",
     "text": [
      "+--------+----------+\n",
      "|order_id|product_id|\n",
      "+--------+----------+\n",
      "|  100010|     16714|\n",
      "|  100010|     11266|\n",
      "|  100010|       196|\n",
      "|  100010|     19660|\n",
      "+--------+----------+\n",
      "\n"
     ]
    }
   ],
   "source": [
    "spark.sql(\"select * from transactions where order_id=='100010'\").show()"
   ]
  },
  {
   "cell_type": "code",
   "execution_count": 6,
   "metadata": {},
   "outputs": [
    {
     "name": "stdout",
     "output_type": "stream",
     "text": [
      "+--------+--------------------+\n",
      "|order_id|               items|\n",
      "+--------+--------------------+\n",
      "|  100010|[16714, 11266, 19...|\n",
      "| 1000240|[21616, 24799, 28...|\n",
      "| 1000280|[46676, 35842, 56...|\n",
      "| 1000665|[24838, 37067, 11...|\n",
      "| 1000795|[37335, 24852, 12...|\n",
      "| 1000839|[41950, 35496, 45...|\n",
      "| 1000888|[26209, 44910, 33...|\n",
      "|  100140|[6069, 42585, 15892]|\n",
      "| 1001866|[16349, 25931, 13...|\n",
      "| 1002011|[18127, 19348, 21...|\n",
      "|  100227|[47626, 16797, 47...|\n",
      "| 1002442|[27966, 5240, 352...|\n",
      "|  100263|[27744, 24154, 24...|\n",
      "| 1002783|             [46041]|\n",
      "| 1002883|[35633, 13176, 82...|\n",
      "| 1002887|[26831, 22395, 48...|\n",
      "|  100320|[7781, 12614, 494...|\n",
      "| 1003202|[25230, 32839, 49...|\n",
      "| 1003366|[28132, 23579, 49...|\n",
      "| 1003397|[21938, 24184, 44...|\n",
      "+--------+--------------------+\n",
      "only showing top 20 rows\n",
      "\n"
     ]
    }
   ],
   "source": [
    "# Mengelompokkan dataset\n",
    "from pyspark.sql import functions\n",
    "dataset = transactions.groupby(\"order_id\").agg(functions.collect_list(\"product_id\").alias(\"items\"))\n",
    "dataset.show()"
   ]
  },
  {
   "cell_type": "markdown",
   "metadata": {},
   "source": [
    "### 2. Frequent Pattern Mining\n",
    "#### FP-Growth 1"
   ]
  },
  {
   "cell_type": "code",
   "execution_count": 7,
   "metadata": {},
   "outputs": [
    {
     "name": "stdout",
     "output_type": "stream",
     "text": [
      "+-------+------+\n",
      "|  items|  freq|\n",
      "+-------+------+\n",
      "|[24852]|472565|\n",
      "|[13176]|379450|\n",
      "|[21137]|264683|\n",
      "|[21903]|241921|\n",
      "|[47209]|213584|\n",
      "|[47766]|176815|\n",
      "+-------+------+\n",
      "\n"
     ]
    }
   ],
   "source": [
    "#Frequent Pattern Mining\n",
    "from pyspark.ml.fpm import FPGrowth\n",
    "\n",
    "fpGrowth = FPGrowth(itemsCol=\"items\", minSupport=0.05, minConfidence=0.05)\n",
    "model = fpGrowth.fit(dataset)\n",
    "\n",
    "#Displlay frequent itemsets\n",
    "model.freqItemsets.show()"
   ]
  },
  {
   "cell_type": "code",
   "execution_count": 8,
   "metadata": {},
   "outputs": [
    {
     "name": "stdout",
     "output_type": "stream",
     "text": [
      "+----------+----------+----------+----+\n",
      "|antecedent|consequent|confidence|lift|\n",
      "+----------+----------+----------+----+\n",
      "+----------+----------+----------+----+\n",
      "\n"
     ]
    }
   ],
   "source": [
    "# Display generated association rules.\n",
    "model.associationRules.show()"
   ]
  },
  {
   "cell_type": "code",
   "execution_count": 9,
   "metadata": {},
   "outputs": [
    {
     "name": "stdout",
     "output_type": "stream",
     "text": [
      "+--------+--------------------+----------+\n",
      "|order_id|               items|prediction|\n",
      "+--------+--------------------+----------+\n",
      "|  100010|[16714, 11266, 19...|        []|\n",
      "| 1000240|[21616, 24799, 28...|        []|\n",
      "| 1000280|[46676, 35842, 56...|        []|\n",
      "| 1000665|[24838, 37067, 11...|        []|\n",
      "| 1000795|[37335, 24852, 12...|        []|\n",
      "| 1000839|[41950, 35496, 45...|        []|\n",
      "| 1000888|[26209, 44910, 33...|        []|\n",
      "|  100140|[6069, 42585, 15892]|        []|\n",
      "| 1001866|[16349, 25931, 13...|        []|\n",
      "| 1002011|[18127, 19348, 21...|        []|\n",
      "|  100227|[47626, 16797, 47...|        []|\n",
      "| 1002442|[27966, 5240, 352...|        []|\n",
      "|  100263|[27744, 24154, 24...|        []|\n",
      "| 1002783|             [46041]|        []|\n",
      "| 1002883|[35633, 13176, 82...|        []|\n",
      "| 1002887|[26831, 22395, 48...|        []|\n",
      "|  100320|[7781, 12614, 494...|        []|\n",
      "| 1003202|[25230, 32839, 49...|        []|\n",
      "| 1003366|[28132, 23579, 49...|        []|\n",
      "| 1003397|[21938, 24184, 44...|        []|\n",
      "+--------+--------------------+----------+\n",
      "only showing top 20 rows\n",
      "\n"
     ]
    }
   ],
   "source": [
    "# transform examines the input items against all the association rules and summarize the\n",
    "# consequents as prediction\n",
    "model.transform(dataset).show()"
   ]
  },
  {
   "cell_type": "markdown",
   "metadata": {},
   "source": [
    "#### FP-Growth 2"
   ]
  },
  {
   "cell_type": "code",
   "execution_count": 10,
   "metadata": {},
   "outputs": [
    {
     "name": "stdout",
     "output_type": "stream",
     "text": [
      "+--------------+------+\n",
      "|         items|  freq|\n",
      "+--------------+------+\n",
      "|       [31683]| 19345|\n",
      "|       [24852]|472565|\n",
      "|       [13176]|379450|\n",
      "|       [26940]| 19286|\n",
      "|       [21137]|264683|\n",
      "|[21137, 13176]| 61628|\n",
      "|[21137, 24852]| 56156|\n",
      "|       [28465]| 19257|\n",
      "|       [21903]|241921|\n",
      "|[21903, 21137]| 38134|\n",
      "|[21903, 13176]| 50372|\n",
      "|[21903, 24852]| 51395|\n",
      "|       [35108]| 19163|\n",
      "|       [47209]|213584|\n",
      "|[47209, 21137]| 40794|\n",
      "|[47209, 13176]| 62341|\n",
      "|[47209, 21903]| 34901|\n",
      "|[47209, 24852]| 31222|\n",
      "|       [26283]| 18906|\n",
      "|       [47766]|176815|\n",
      "+--------------+------+\n",
      "only showing top 20 rows\n",
      "\n"
     ]
    }
   ],
   "source": [
    "fpGrowth1 = FPGrowth(itemsCol=\"items\", minSupport=0.005, minConfidence=0.01)\n",
    "model1 = fpGrowth1.fit(dataset)\n",
    "\n",
    "#Displlay frequent itemsets\n",
    "model1.freqItemsets.show()"
   ]
  },
  {
   "cell_type": "code",
   "execution_count": 11,
   "metadata": {},
   "outputs": [
    {
     "name": "stdout",
     "output_type": "stream",
     "text": [
      "+----------+----------+-------------------+------------------+\n",
      "|antecedent|consequent|         confidence|              lift|\n",
      "+----------+----------+-------------------+------------------+\n",
      "|   [21137]|   [13176]|0.23283701635541385|1.9727017264951765|\n",
      "|   [21137]|   [24852]|0.21216322922137046|1.4433528707793088|\n",
      "|   [21137]|   [21903]| 0.1440742321947386|1.9145940333944889|\n",
      "|   [21137]|   [47209]|0.15412398982934303|2.3198798022259126|\n",
      "|   [21137]|   [47766]|0.09061405530389183|1.6475568839241237|\n",
      "|   [21137]|   [47626]|0.06160199181662593|1.2973046885467647|\n",
      "|   [21137]|   [26209]|0.07178020499994332|1.6409673445994568|\n",
      "|   [21137]|   [27845]|0.08996799945595298|2.0973552973638183|\n",
      "|   [21137]|   [27966]|0.12793794841376288|3.0009732007029744|\n",
      "|   [21137]|   [22935]|0.06290921592999928|1.7830585813988016|\n",
      "|   [21137]|   [39275]|0.08975264750664001|2.8837043064187666|\n",
      "|   [21137]|   [30391]|0.06254651791010378| 2.501233632945156|\n",
      "|   [47766]|   [21137]|0.13564460028843706|1.6475568839241237|\n",
      "|   [47766]|   [13176]|0.12946299804880806|1.0968697493455364|\n",
      "|   [47766]|   [21903]| 0.1746967169075022|  2.32153443922309|\n",
      "|   [47766]|   [24852]|  0.301982297881967| 2.054394713787502|\n",
      "|   [47766]|   [47626]|0.13809348754347764|  2.90817429055235|\n",
      "|   [47766]|   [26209]|  0.124480389107259|2.8457463108137855|\n",
      "|   [40706]|   [13176]|0.19761438490297312|1.6742794783253678|\n",
      "|   [40706]|   [24852]|0.22218265978280222|1.5115153601865912|\n",
      "+----------+----------+-------------------+------------------+\n",
      "only showing top 20 rows\n",
      "\n"
     ]
    }
   ],
   "source": [
    "# Display generated association rules.\n",
    "model1.associationRules.show()"
   ]
  },
  {
   "cell_type": "code",
   "execution_count": 12,
   "metadata": {},
   "outputs": [
    {
     "name": "stdout",
     "output_type": "stream",
     "text": [
      "+--------+--------------------+--------------------+\n",
      "|order_id|               items|          prediction|\n",
      "+--------+--------------------+--------------------+\n",
      "|  100010|[16714, 11266, 19...|                  []|\n",
      "| 1000240|[21616, 24799, 28...|[21137, 47209, 47...|\n",
      "| 1000280|[46676, 35842, 56...|[21137, 13176, 21...|\n",
      "| 1000665|[24838, 37067, 11...|      [24852, 26209]|\n",
      "| 1000795|[37335, 24852, 12...|[13176, 21137, 21...|\n",
      "| 1000839|[41950, 35496, 45...|                  []|\n",
      "| 1000888|[26209, 44910, 33...|[21137, 47766, 47...|\n",
      "|  100140|[6069, 42585, 15892]|                  []|\n",
      "| 1001866|[16349, 25931, 13...|                  []|\n",
      "| 1002011|[18127, 19348, 21...|[21137, 13176, 24...|\n",
      "|  100227|[47626, 16797, 47...|[22935, 47209, 13...|\n",
      "| 1002442|[27966, 5240, 352...|[21137, 47766, 47...|\n",
      "|  100263|[27744, 24154, 24...|[21137, 21903, 47...|\n",
      "| 1002783|             [46041]|                  []|\n",
      "| 1002883|[35633, 13176, 82...|[24852, 21903, 47...|\n",
      "| 1002887|[26831, 22395, 48...|                  []|\n",
      "|  100320|[7781, 12614, 494...|      [13176, 24852]|\n",
      "| 1003202|[25230, 32839, 49...|             [24852]|\n",
      "| 1003366|[28132, 23579, 49...|             [24852]|\n",
      "| 1003397|[21938, 24184, 44...|                  []|\n",
      "+--------+--------------------+--------------------+\n",
      "only showing top 20 rows\n",
      "\n"
     ]
    }
   ],
   "source": [
    "# transform examines the input items against all the association rules and summarize the\n",
    "# consequents as prediction\n",
    "model1.transform(dataset).show()"
   ]
  },
  {
   "cell_type": "markdown",
   "metadata": {},
   "source": [
    "#### FP-Growth 3"
   ]
  },
  {
   "cell_type": "code",
   "execution_count": 13,
   "metadata": {},
   "outputs": [
    {
     "name": "stdout",
     "output_type": "stream",
     "text": [
      "+-------+------+\n",
      "|  items|  freq|\n",
      "+-------+------+\n",
      "|[24852]|472565|\n",
      "|[13176]|379450|\n",
      "|[21137]|264683|\n",
      "|[21903]|241921|\n",
      "|[47209]|213584|\n",
      "|[47766]|176815|\n",
      "+-------+------+\n",
      "\n"
     ]
    }
   ],
   "source": [
    "fpGrowth2 = FPGrowth(itemsCol=\"items\", minSupport=0.05, minConfidence=0.1)\n",
    "model2 = fpGrowth2.fit(dataset)\n",
    "\n",
    "#Displlay frequent itemsets\n",
    "model2.freqItemsets.show()"
   ]
  },
  {
   "cell_type": "code",
   "execution_count": 14,
   "metadata": {},
   "outputs": [
    {
     "name": "stdout",
     "output_type": "stream",
     "text": [
      "+----------+----------+----------+----+\n",
      "|antecedent|consequent|confidence|lift|\n",
      "+----------+----------+----------+----+\n",
      "+----------+----------+----------+----+\n",
      "\n"
     ]
    }
   ],
   "source": [
    "# Display generated association rules.\n",
    "model2.associationRules.show()"
   ]
  },
  {
   "cell_type": "code",
   "execution_count": 15,
   "metadata": {},
   "outputs": [
    {
     "name": "stdout",
     "output_type": "stream",
     "text": [
      "+--------+--------------------+----------+\n",
      "|order_id|               items|prediction|\n",
      "+--------+--------------------+----------+\n",
      "|  100010|[16714, 11266, 19...|        []|\n",
      "| 1000240|[21616, 24799, 28...|        []|\n",
      "| 1000280|[46676, 35842, 56...|        []|\n",
      "| 1000665|[24838, 37067, 11...|        []|\n",
      "| 1000795|[37335, 24852, 12...|        []|\n",
      "| 1000839|[41950, 35496, 45...|        []|\n",
      "| 1000888|[26209, 44910, 33...|        []|\n",
      "|  100140|[6069, 42585, 15892]|        []|\n",
      "| 1001866|[16349, 25931, 13...|        []|\n",
      "| 1002011|[18127, 19348, 21...|        []|\n",
      "|  100227|[47626, 16797, 47...|        []|\n",
      "| 1002442|[27966, 5240, 352...|        []|\n",
      "|  100263|[27744, 24154, 24...|        []|\n",
      "| 1002783|             [46041]|        []|\n",
      "| 1002883|[35633, 13176, 82...|        []|\n",
      "| 1002887|[26831, 22395, 48...|        []|\n",
      "|  100320|[7781, 12614, 494...|        []|\n",
      "| 1003202|[25230, 32839, 49...|        []|\n",
      "| 1003366|[28132, 23579, 49...|        []|\n",
      "| 1003397|[21938, 24184, 44...|        []|\n",
      "+--------+--------------------+----------+\n",
      "only showing top 20 rows\n",
      "\n"
     ]
    }
   ],
   "source": [
    "# transform examines the input items against all the association rules and summarize the\n",
    "# consequents as prediction\n",
    "model2.transform(dataset).show()"
   ]
  },
  {
   "cell_type": "markdown",
   "metadata": {},
   "source": [
    "### Example output recommendation"
   ]
  },
  {
   "cell_type": "code",
   "execution_count": 16,
   "metadata": {},
   "outputs": [
    {
     "name": "stdout",
     "output_type": "stream",
     "text": [
      "+--------+--------------------+\n",
      "|order_id|               items|\n",
      "+--------+--------------------+\n",
      "|       3|             [28465]|\n",
      "|       5|[35633, 35842, 35...|\n",
      "|       1|[6069, 13176, 32839]|\n",
      "|       4|             [47766]|\n",
      "|       2|      [21137, 13176]|\n",
      "+--------+--------------------+\n",
      "\n",
      "root\n",
      " |-- order_id: string (nullable = true)\n",
      " |-- products: string (nullable = true)\n",
      "\n"
     ]
    }
   ],
   "source": [
    "df = spark.read.csv(\"D://Documents//Semester_8//Apache-Spark//instacart-market-basket-analysis//sample_submission.csv\", header=True)\n",
    "df_sample = df.groupby(\"order_id\").agg(functions.collect_list(\"products\").alias(\"items\"))\n",
    "df_sample.show()\n",
    "df.printSchema()"
   ]
  },
  {
   "cell_type": "code",
   "execution_count": 17,
   "metadata": {},
   "outputs": [
    {
     "name": "stdout",
     "output_type": "stream",
     "text": [
      "+--------+--------------------+--------------------+\n",
      "|order_id|               items|          prediction|\n",
      "+--------+--------------------+--------------------+\n",
      "|       3|             [28465]|                  []|\n",
      "|       5|[35633, 35842, 35...|                  []|\n",
      "|       1|[6069, 13176, 32839]|[21137, 21903, 47...|\n",
      "|       4|             [47766]|[21137, 13176, 21...|\n",
      "|       2|      [21137, 13176]|[24852, 21903, 47...|\n",
      "+--------+--------------------+--------------------+\n",
      "\n"
     ]
    }
   ],
   "source": [
    "# Menggunakan Model1 untuk melakukan prediksi items\n",
    "model1.transform(df_sample).show()"
   ]
  },
  {
   "cell_type": "code",
   "execution_count": 18,
   "metadata": {},
   "outputs": [
    {
     "name": "stdout",
     "output_type": "stream",
     "text": [
      "+--------+--------------------+----------+\n",
      "|order_id|               items|prediction|\n",
      "+--------+--------------------+----------+\n",
      "|       3|             [28465]|        []|\n",
      "|       5|[35633, 35842, 35...|        []|\n",
      "|       1|[6069, 13176, 32839]|        []|\n",
      "|       4|             [47766]|        []|\n",
      "|       2|      [21137, 13176]|        []|\n",
      "+--------+--------------------+----------+\n",
      "\n"
     ]
    }
   ],
   "source": [
    "model2.transform(df_sample).show()"
   ]
  },
  {
   "cell_type": "code",
   "execution_count": 19,
   "metadata": {},
   "outputs": [
    {
     "name": "stdout",
     "output_type": "stream",
     "text": [
      "+--------+--------------------+----------+\n",
      "|order_id|               items|prediction|\n",
      "+--------+--------------------+----------+\n",
      "|       3|             [28465]|        []|\n",
      "|       5|[35633, 35842, 35...|        []|\n",
      "|       1|[6069, 13176, 32839]|        []|\n",
      "|       4|             [47766]|        []|\n",
      "|       2|      [21137, 13176]|        []|\n",
      "+--------+--------------------+----------+\n",
      "\n"
     ]
    }
   ],
   "source": [
    "model.transform(df_sample).show()"
   ]
  },
  {
   "cell_type": "code",
   "execution_count": null,
   "metadata": {},
   "outputs": [],
   "source": []
  }
 ],
 "metadata": {
  "kernelspec": {
   "display_name": "Python 3",
   "language": "python",
   "name": "python3"
  },
  "language_info": {
   "codemirror_mode": {
    "name": "ipython",
    "version": 3
   },
   "file_extension": ".py",
   "mimetype": "text/x-python",
   "name": "python",
   "nbconvert_exporter": "python",
   "pygments_lexer": "ipython3",
   "version": "3.7.2"
  }
 },
 "nbformat": 4,
 "nbformat_minor": 2
}
