{
 "cells": [
  {
   "cell_type": "markdown",
   "metadata": {},
   "source": [
    "### Description of dataset\n",
    "* Dataset's name: [Daily Historical Stock Prices (1970 - 2018)](https://www.kaggle.com/ehallmar/daily-historical-stock-prices-1970-2018)\n",
    "* Description: Historical stock prices for several thousand unique stock tickers"
   ]
  },
  {
   "cell_type": "markdown",
   "metadata": {},
   "source": [
    "### Import findspark to read SPARK_HOME and HADOOP_HOME"
   ]
  },
  {
   "cell_type": "code",
   "execution_count": 32,
   "metadata": {},
   "outputs": [],
   "source": [
    "# Import findspark to read SPARK_HOME and HADOOP_HOME\n",
    "import findspark\n",
    "import matplotlib.pyplot as plt\n",
    "findspark.init()"
   ]
  },
  {
   "cell_type": "code",
   "execution_count": 33,
   "metadata": {},
   "outputs": [],
   "source": [
    "# Import required library\n",
    "from pyspark.sql import SparkSession\n",
    "\n",
    "# Create Spark Session\n",
    "spark = SparkSession \\\n",
    "    .builder \\\n",
    "    .appName(\"Python Spark SQL basic example\") \\\n",
    "    .getOrCreate()"
   ]
  },
  {
   "cell_type": "code",
   "execution_count": 34,
   "metadata": {},
   "outputs": [
    {
     "name": "stdout",
     "output_type": "stream",
     "text": [
      "<pyspark.sql.session.SparkSession object at 0x0A70D670>\n"
     ]
    }
   ],
   "source": [
    "# Print Spark object ID\n",
    "print(spark)"
   ]
  },
  {
   "cell_type": "markdown",
   "metadata": {},
   "source": [
    "### Loading Data using Spark"
   ]
  },
  {
   "cell_type": "code",
   "execution_count": 35,
   "metadata": {},
   "outputs": [],
   "source": [
    "df = spark.read.csv(\"D://Documents//Semester_8//Apache-Spark//historical_stock_prices.csv\", header=True)"
   ]
  },
  {
   "cell_type": "code",
   "execution_count": 36,
   "metadata": {},
   "outputs": [
    {
     "name": "stdout",
     "output_type": "stream",
     "text": [
      "+------+----------------+----------------+----------------+----------------+----------------+-------+----------+\n",
      "|ticker|            open|           close|       adj_close|             low|            high| volume|      date|\n",
      "+------+----------------+----------------+----------------+----------------+----------------+-------+----------+\n",
      "|   AHH|            11.5|11.5799999237061|8.49315452575684|           11.25|11.6800003051758|4633900|2013-05-08|\n",
      "|   AHH|11.6599998474121|11.5500001907349|8.47115135192871|            11.5|11.6599998474121| 275800|2013-05-09|\n",
      "|   AHH|11.5500001907349|11.6000003814697|8.50782203674316|            11.5|11.6000003814697| 277100|2013-05-10|\n",
      "|   AHH|11.6300001144409|11.6499996185303|8.54449367523193|11.5500001907349|11.6499996185303| 147400|2013-05-13|\n",
      "|   AHH|11.6000003814697|11.5299997329712|8.45648384094238|            11.5|11.6000003814697| 184100|2013-05-14|\n",
      "|   AHH|11.6000003814697|11.6000003814697|8.50782203674316| 11.539999961853|11.6000003814697|  76800|2013-05-15|\n",
      "|   AHH|11.6199998855591|11.7399997711182|8.61050128936768| 11.539999961853|11.7399997711182| 170300|2013-05-16|\n",
      "|   AHH|11.6999998092651|11.7600002288818|8.62517166137695|11.6999998092651|11.8500003814697| 305400|2013-05-17|\n",
      "|   AHH|11.7600002288818|11.7299995422363|8.60316944122314|11.6300001144409|11.8299999237061|  46800|2013-05-20|\n",
      "|   AHH|11.7600002288818|11.8299999237061|8.67651176452637|11.6099996566772|11.8400001525879|  77000|2013-05-21|\n",
      "|   AHH|11.8400001525879|           11.75|8.61783981323242|11.6800003051758|11.8400001525879|  90200|2013-05-22|\n",
      "|   AHH|11.6400003433228|11.6099996566772|8.51515579223633| 11.539999961853| 11.789999961853|  75400|2013-05-23|\n",
      "|   AHH|11.5699996948242|11.6999998092651|8.58116626739502|11.5500001907349|11.7299995422363|  63400|2013-05-24|\n",
      "|   AHH|11.7299995422363|11.5799999237061|8.49315452575684|11.5699996948242|11.7799997329712| 212400|2013-05-28|\n",
      "|   AHH|11.5100002288818|           11.25|8.25112056732178|11.1999998092651|11.6700000762939| 447000|2013-05-29|\n",
      "|   AHH|11.5799999237061|11.5500001907349|8.47115135192871|11.4700002670288|11.6499996185303| 453300|2013-05-30|\n",
      "|   AHH|11.6000003814697|11.4700002670288| 8.4124755859375|11.4700002670288|11.8000001907349| 109400|2013-05-31|\n",
      "|   AHH|11.6800003051758|11.5200004577637| 8.4491491317749|11.3000001907349|11.6800003051758| 143200|2013-06-03|\n",
      "|   AHH|11.5600004196167|11.5100002288818|8.44181537628174| 11.460000038147|11.6300001144409| 115000|2013-06-04|\n",
      "|   AHH|11.5799999237061|11.5500001907349|8.47115135192871|           11.25|11.5900001525879|  78100|2013-06-05|\n",
      "+------+----------------+----------------+----------------+----------------+----------------+-------+----------+\n",
      "only showing top 20 rows\n",
      "\n"
     ]
    }
   ],
   "source": [
    "df.show()"
   ]
  },
  {
   "cell_type": "code",
   "execution_count": 37,
   "metadata": {},
   "outputs": [
    {
     "data": {
      "text/plain": [
       "20973889"
      ]
     },
     "execution_count": 37,
     "metadata": {},
     "output_type": "execute_result"
    }
   ],
   "source": [
    "df.count()"
   ]
  },
  {
   "cell_type": "code",
   "execution_count": 38,
   "metadata": {},
   "outputs": [
    {
     "name": "stdout",
     "output_type": "stream",
     "text": [
      "root\n",
      " |-- ticker: string (nullable = true)\n",
      " |-- open: string (nullable = true)\n",
      " |-- close: string (nullable = true)\n",
      " |-- adj_close: string (nullable = true)\n",
      " |-- low: string (nullable = true)\n",
      " |-- high: string (nullable = true)\n",
      " |-- volume: string (nullable = true)\n",
      " |-- date: string (nullable = true)\n",
      "\n"
     ]
    }
   ],
   "source": [
    "df.printSchema()"
   ]
  },
  {
   "cell_type": "code",
   "execution_count": null,
   "metadata": {},
   "outputs": [],
   "source": [
    "df.createOrReplaceTempView(\"stock\")"
   ]
  },
  {
   "cell_type": "code",
   "execution_count": null,
   "metadata": {},
   "outputs": [],
   "source": [
    "result = spark.sql(\"SELECT DISTINCT ticker FROM stock\")"
   ]
  },
  {
   "cell_type": "code",
   "execution_count": null,
   "metadata": {},
   "outputs": [
    {
     "name": "stdout",
     "output_type": "stream",
     "text": [
      "+------+\n",
      "|ticker|\n",
      "+------+\n",
      "|   MHF|\n",
      "|   TNP|\n",
      "|  BAND|\n",
      "|   PKE|\n",
      "|  CARS|\n",
      "|  CBIO|\n",
      "|  HBNC|\n",
      "|  ALXN|\n",
      "|   CRS|\n",
      "|   EFR|\n",
      "|   GIS|\n",
      "|  IDLB|\n",
      "|   FMY|\n",
      "|   IHD|\n",
      "|   TYG|\n",
      "|   TLI|\n",
      "|   CCK|\n",
      "|     K|\n",
      "|   BOX|\n",
      "|  MNGA|\n",
      "+------+\n",
      "only showing top 20 rows\n",
      "\n"
     ]
    }
   ],
   "source": [
    "result.show()"
   ]
  },
  {
   "cell_type": "code",
   "execution_count": null,
   "metadata": {},
   "outputs": [
    {
     "data": {
      "text/plain": [
       "5685"
      ]
     },
     "execution_count": 42,
     "metadata": {},
     "output_type": "execute_result"
    }
   ],
   "source": [
    "result.count()"
   ]
  },
  {
   "cell_type": "markdown",
   "metadata": {},
   "source": [
    "### Data Mining Process"
   ]
  },
  {
   "cell_type": "code",
   "execution_count": null,
   "metadata": {},
   "outputs": [],
   "source": [
    "### Calculate total transactions for each ticker\n",
    "query1=spark.sql(\"select `ticker`, COUNT(`date`) as `total` \\\n",
    "                from stock \\\n",
    "                group by `ticker` \\\n",
    "                order by `total` ASC\")"
   ]
  },
  {
   "cell_type": "code",
   "execution_count": null,
   "metadata": {},
   "outputs": [
    {
     "name": "stdout",
     "output_type": "stream",
     "text": [
      "+------+-----+\n",
      "|ticker|total|\n",
      "+------+-----+\n",
      "| CRUSC|    1|\n",
      "|   CBX|    2|\n",
      "| HFGIC|    4|\n",
      "| MOGLC|    5|\n",
      "|  PXUS|    6|\n",
      "| KELYB|    9|\n",
      "|  FTEO|   10|\n",
      "| OKDCC|   11|\n",
      "| LEXEB|   11|\n",
      "|   EAI|   13|\n",
      "| FOANC|   13|\n",
      "| ROSEU|   14|\n",
      "|  NEBU|   17|\n",
      "|  DFBH|   19|\n",
      "|   LHC|   33|\n",
      "|  LACQ|   36|\n",
      "|   CBO|   37|\n",
      "|  PVAL|   38|\n",
      "|   VAM|   39|\n",
      "|  CLMT|   40|\n",
      "+------+-----+\n",
      "only showing top 20 rows\n",
      "\n"
     ]
    }
   ],
   "source": [
    "query1.show()"
   ]
  },
  {
   "cell_type": "code",
   "execution_count": null,
   "metadata": {},
   "outputs": [],
   "source": [
    "### Check data from previous query\n",
    "spark.sql(\"select * \\\n",
    "            from stock \\\n",
    "            where `ticker` like 'CRUSC'\").show()"
   ]
  },
  {
   "cell_type": "code",
   "execution_count": null,
   "metadata": {},
   "outputs": [],
   "source": [
    "### Calculate total transactions for each year\n",
    "query2=spark.sql(\"select substring(`date`,1,4) as `year`, count(`date`) as `total` \\\n",
    "            from stock \\\n",
    "            group by `year` \\\n",
    "            order by `year` ASC\")"
   ]
  },
  {
   "cell_type": "code",
   "execution_count": null,
   "metadata": {},
   "outputs": [],
   "source": [
    "query2.show()"
   ]
  },
  {
   "cell_type": "code",
   "execution_count": null,
   "metadata": {},
   "outputs": [],
   "source": [
    "query2.toPandas().plot(x='year',y='total',title='Total transaction per year')"
   ]
  },
  {
   "cell_type": "code",
   "execution_count": null,
   "metadata": {},
   "outputs": [],
   "source": [
    "### Calculate total transaction for each day\n",
    "query3=spark.sql(\"select `date`, count(`date`) as `total` \\\n",
    "            from stock \\\n",
    "            group by `date` \\\n",
    "            order by `date` desc\")"
   ]
  },
  {
   "cell_type": "code",
   "execution_count": null,
   "metadata": {},
   "outputs": [],
   "source": [
    "query3.show()"
   ]
  },
  {
   "cell_type": "code",
   "execution_count": null,
   "metadata": {},
   "outputs": [],
   "source": []
  }
 ],
 "metadata": {
  "kernelspec": {
   "display_name": "Python 3",
   "language": "python",
   "name": "python3"
  },
  "language_info": {
   "codemirror_mode": {
    "name": "ipython",
    "version": 3
   },
   "file_extension": ".py",
   "mimetype": "text/x-python",
   "name": "python",
   "nbconvert_exporter": "python",
   "pygments_lexer": "ipython3",
   "version": "3.7.0"
  }
 },
 "nbformat": 4,
 "nbformat_minor": 2
}
