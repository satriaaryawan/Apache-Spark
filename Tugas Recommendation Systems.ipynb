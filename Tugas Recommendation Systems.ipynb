{
 "cells": [
  {
   "cell_type": "markdown",
   "metadata": {},
   "source": [
    "### Description of dataset\n",
    "* Dataset's name: [Collaborative filtering dataset - dating agency](http://www.occamslab.com/petricek/data/)\n",
    "* Description: These files contain 17,359,346 anonymous ratings of 168,791 profiles made by 135,359 LibimSeTi users as dumped on April 4, 2006."
   ]
  },
  {
   "cell_type": "markdown",
   "metadata": {},
   "source": [
    "### 1. Prepare Dataset"
   ]
  },
  {
   "cell_type": "code",
   "execution_count": 1,
   "metadata": {},
   "outputs": [],
   "source": [
    "import findspark\n",
    "findspark.init()"
   ]
  },
  {
   "cell_type": "code",
   "execution_count": 12,
   "metadata": {},
   "outputs": [
    {
     "name": "stdout",
     "output_type": "stream",
     "text": [
      "<pyspark.sql.session.SparkSession object at 0x00000166E9722D30>\n"
     ]
    }
   ],
   "source": [
    "from pyspark.sql import SparkSession\n",
    "from pyspark.ml.recommendation import ALS\n",
    "from pyspark.ml.evaluation import RegressionEvaluator\n",
    "from pyspark.sql import Row\n",
    "spark = SparkSession \\\n",
    "    .builder \\\n",
    "    .appName(\"Recommendation Systems\") \\\n",
    "    .getOrCreate()\n",
    "print(spark)"
   ]
  },
  {
   "cell_type": "code",
   "execution_count": 3,
   "metadata": {},
   "outputs": [
    {
     "name": "stdout",
     "output_type": "stream",
     "text": [
      "root\n",
      " |-- UserID: string (nullable = true)\n",
      " |-- ProfileID: string (nullable = true)\n",
      " |-- Rating: string (nullable = true)\n",
      "\n"
     ]
    }
   ],
   "source": [
    "ratings = spark.read.csv(\"D://Documents//Semester_8//Apache-Spark//libimseti-complete//libimseti//ratings.csv\", header=True)\n",
    "ratings.printSchema()"
   ]
  },
  {
   "cell_type": "code",
   "execution_count": 4,
   "metadata": {},
   "outputs": [
    {
     "name": "stdout",
     "output_type": "stream",
     "text": [
      "+------+---------+------+\n",
      "|UserID|ProfileID|Rating|\n",
      "+------+---------+------+\n",
      "|     1|      133|     8|\n",
      "|     1|      720|     6|\n",
      "|     1|      971|    10|\n",
      "|     1|     1095|     7|\n",
      "|     1|     1616|    10|\n",
      "|     1|     1978|     7|\n",
      "|     1|     2145|     8|\n",
      "|     1|     2211|     8|\n",
      "|     1|     3751|     7|\n",
      "|     1|     4062|     3|\n",
      "|     1|     4633|    10|\n",
      "|     1|     4842|     5|\n",
      "|     1|     6518|     6|\n",
      "|     1|     7576|     8|\n",
      "|     1|     7724|     7|\n",
      "|     1|     8305|    10|\n",
      "|     1|     8923|     9|\n",
      "|     1|     9345|    10|\n",
      "|     1|     9729|    10|\n",
      "|     1|    10148|    10|\n",
      "+------+---------+------+\n",
      "only showing top 20 rows\n",
      "\n",
      "root\n",
      " |-- UserID: integer (nullable = true)\n",
      " |-- ProfileID: integer (nullable = true)\n",
      " |-- Rating: integer (nullable = true)\n",
      "\n"
     ]
    }
   ],
   "source": [
    "df = ratings.select(ratings.UserID.cast(\"int\"),\n",
    "                   ratings.ProfileID.cast(\"int\"),\n",
    "                   ratings.Rating.cast(\"int\"))\n",
    "df.show()\n",
    "df.printSchema()\n",
    "df.createOrReplaceTempView(\"rating\")"
   ]
  },
  {
   "cell_type": "code",
   "execution_count": 7,
   "metadata": {},
   "outputs": [
    {
     "name": "stdout",
     "output_type": "stream",
     "text": [
      "+---------+------------+----------+----------+------+\n",
      "|ProfileID|total_review|min_rating|max_rating|rating|\n",
      "+---------+------------+----------+----------+------+\n",
      "|   156148|       33389|         6|        10|  10.0|\n",
      "|    31116|       28398|         1|        10|  7.79|\n",
      "|   193687|       23649|         1|        10|   8.3|\n",
      "|   121859|       23639|         1|        10|   9.5|\n",
      "|    83773|       23113|         1|        10|  6.27|\n",
      "|    22319|       21387|         1|        10|  9.92|\n",
      "|    71636|       21284|         5|        10|  9.98|\n",
      "|    89855|       20634|         1|        10|  5.95|\n",
      "|    20737|       18550|         2|        10|  8.23|\n",
      "|   162707|       18224|         1|        10|  4.11|\n",
      "|    68989|       16591|         1|        10|  5.94|\n",
      "|    60983|       16253|         1|        10|  5.91|\n",
      "|    33216|       16049|         1|        10|  8.55|\n",
      "|   179192|       15620|         1|        10|  7.41|\n",
      "|   194553|       14432|         3|        10|  6.15|\n",
      "|   192666|       14335|         1|        10|  2.79|\n",
      "|   180504|       13485|         1|        10|  8.06|\n",
      "|   208748|       13462|         1|        10|  6.26|\n",
      "|    50408|       13451|         1|        10|  7.81|\n",
      "|   102328|       13308|         1|        10|  7.73|\n",
      "+---------+------------+----------+----------+------+\n",
      "only showing top 20 rows\n",
      "\n"
     ]
    }
   ],
   "source": [
    "spark.sql(\"select ProfileID, count(Rating) as total_review, min(Rating) as min_rating, max(Rating) as max_rating, round(avg(rating),2) as rating \\\n",
    "        from rating \\\n",
    "        group by ProfileID \\\n",
    "        order by total_review desc\").show()"
   ]
  },
  {
   "cell_type": "markdown",
   "metadata": {},
   "source": [
    "### 2. ALS (Alternating Least Squares) Algorithm"
   ]
  },
  {
   "cell_type": "code",
   "execution_count": 9,
   "metadata": {},
   "outputs": [],
   "source": [
    "(training, test) = df.randomSplit([0.8, 0.2])"
   ]
  },
  {
   "cell_type": "code",
   "execution_count": 17,
   "metadata": {},
   "outputs": [],
   "source": [
    "als = ALS(maxIter=10, regParam=0.1, userCol=\"UserID\", itemCol=\"ProfileID\", ratingCol=\"Rating\", coldStartStrategy=\"drop\")\n",
    "model = als.fit(training)"
   ]
  },
  {
   "cell_type": "code",
   "execution_count": 18,
   "metadata": {},
   "outputs": [
    {
     "name": "stdout",
     "output_type": "stream",
     "text": [
      "Root-mean-square error = 1.8325456808086027\n"
     ]
    }
   ],
   "source": [
    "predictions = model.transform(test)\n",
    "evaluator = RegressionEvaluator(metricName=\"rmse\", labelCol=\"Rating\",\n",
    "                                predictionCol=\"prediction\")\n",
    "rmse = evaluator.evaluate(predictions)\n",
    "print(\"Root-mean-square error = \" + str(rmse))"
   ]
  },
  {
   "cell_type": "code",
   "execution_count": 19,
   "metadata": {},
   "outputs": [
    {
     "name": "stdout",
     "output_type": "stream",
     "text": [
      "+------+--------------------+\n",
      "|UserID|     recommendations|\n",
      "+------+--------------------+\n",
      "|   148|[[197855, 16.6731...|\n",
      "|   463|[[132059, 16.2649...|\n",
      "|   471|[[68295, 15.04343...|\n",
      "|   496|[[15487, 17.57094...|\n",
      "|   833|[[184022, 15.1616...|\n",
      "|  1088|[[36880, 21.67093...|\n",
      "|  1238|[[119519, 15.0903...|\n",
      "|  1342|[[86379, 14.51208...|\n",
      "|  1580|[[15487, 16.46562...|\n",
      "|  1591|[[15487, 14.51271...|\n",
      "|  1645|[[216709, 14.1595...|\n",
      "|  1829|[[117973, 19.7139...|\n",
      "|  1959|[[12391, 15.97196...|\n",
      "|  2122|[[182214, 15.5431...|\n",
      "|  2142|[[188457, 15.5643...|\n",
      "|  2366|[[15487, 15.51381...|\n",
      "|  2659|[[178022, 15.2394...|\n",
      "|  2866|[[15487, 15.49009...|\n",
      "|  3175|[[56724, 15.31058...|\n",
      "|  3749|[[68295, 14.12433...|\n",
      "+------+--------------------+\n",
      "only showing top 20 rows\n",
      "\n"
     ]
    }
   ],
   "source": [
    "# Generate top 10 profile recommendations for each user\n",
    "userRecs = model.recommendForAllUsers(10)\n",
    "userRecs.show()"
   ]
  },
  {
   "cell_type": "code",
   "execution_count": 20,
   "metadata": {},
   "outputs": [
    {
     "name": "stdout",
     "output_type": "stream",
     "text": [
      "+---------+--------------------+\n",
      "|ProfileID|     recommendations|\n",
      "+---------+--------------------+\n",
      "|      496|[[38464, 15.65150...|\n",
      "|      833|[[76155, 11.48229...|\n",
      "|     1238|[[112652, 11.7947...|\n",
      "|     1580|[[31242, 15.84751...|\n",
      "|     1591|[[70289, 9.904825...|\n",
      "|     1645|[[82865, 16.65724...|\n",
      "|     1829|[[31019, 15.42304...|\n",
      "|     1959|[[88809, 11.30611...|\n",
      "|     2122|[[105939, 10.5938...|\n",
      "|     2366|[[26871, 8.984773...|\n",
      "|     2659|[[85332, 13.95647...|\n",
      "|     2866|[[91397, 11.24922...|\n",
      "|     3175|[[51565, 18.85792...|\n",
      "|     3749|[[85332, 18.5251]...|\n",
      "|     3794|[[112652, 12.4217...|\n",
      "|     4101|[[75614, 17.13718...|\n",
      "|     4900|[[63056, 14.40250...|\n",
      "|     4935|[[85332, 11.49072...|\n",
      "|     5300|[[122307, 15.0731...|\n",
      "|     5518|[[92606, 11.26908...|\n",
      "+---------+--------------------+\n",
      "only showing top 20 rows\n",
      "\n"
     ]
    }
   ],
   "source": [
    "# Generate top 10 user recommendations for each profile\n",
    "profileRecs = model.recommendForAllItems(10)\n",
    "profileRecs.show()"
   ]
  },
  {
   "cell_type": "code",
   "execution_count": 25,
   "metadata": {},
   "outputs": [],
   "source": [
    "# Generate top 10 profile recommendations for a specified set of users\n",
    "users = ratings.select(als.getUserCol()).distinct().limit(3)\n",
    "userSubsetRecs = model.recommendForUserSubset(users, 10)"
   ]
  },
  {
   "cell_type": "code",
   "execution_count": 30,
   "metadata": {},
   "outputs": [],
   "source": [
    "# Generate top 10 user recommendations for a specified set of profile\n",
    "profile = ratings.select(als.getItemCol()).distinct().limit(3)\n",
    "profileSubsetRecs = model.recommendForItemSubset(profile, 10)"
   ]
  },
  {
   "cell_type": "code",
   "execution_count": 27,
   "metadata": {},
   "outputs": [
    {
     "name": "stdout",
     "output_type": "stream",
     "text": [
      "+------+--------------------+\n",
      "|UserID|     recommendations|\n",
      "+------+--------------------+\n",
      "|   296|[[188024, 16.7914...|\n",
      "|   675|[[15487, 14.59643...|\n",
      "|   467|[[189065, 14.2386...|\n",
      "+------+--------------------+\n",
      "\n"
     ]
    }
   ],
   "source": [
    "userSubsetRecs.show()"
   ]
  },
  {
   "cell_type": "code",
   "execution_count": 31,
   "metadata": {},
   "outputs": [
    {
     "name": "stdout",
     "output_type": "stream",
     "text": [
      "+---------+--------------------+\n",
      "|ProfileID|     recommendations|\n",
      "+---------+--------------------+\n",
      "|    93893|[[38464, 13.18778...|\n",
      "|    59318|[[106843, 12.0248...|\n",
      "|   204088|[[58132, 11.21015...|\n",
      "+---------+--------------------+\n",
      "\n"
     ]
    }
   ],
   "source": [
    "profileSubsetRecs.show()"
   ]
  },
  {
   "cell_type": "code",
   "execution_count": null,
   "metadata": {},
   "outputs": [],
   "source": []
  }
 ],
 "metadata": {
  "kernelspec": {
   "display_name": "Python 3",
   "language": "python",
   "name": "python3"
  },
  "language_info": {
   "codemirror_mode": {
    "name": "ipython",
    "version": 3
   },
   "file_extension": ".py",
   "mimetype": "text/x-python",
   "name": "python",
   "nbconvert_exporter": "python",
   "pygments_lexer": "ipython3",
   "version": "3.7.2"
  }
 },
 "nbformat": 4,
 "nbformat_minor": 2
}
