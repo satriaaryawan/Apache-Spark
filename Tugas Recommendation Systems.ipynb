{
 "cells": [
  {
   "cell_type": "markdown",
   "metadata": {},
   "source": [
    "### Description of dataset\n",
    "* Dataset's name: [Collaborative filtering dataset - dating agency](http://www.occamslab.com/petricek/data/)\n",
    "* Description: These files contain 17,359,346 anonymous ratings of 168,791 profiles made by 135,359 LibimSeTi users as dumped on April 4, 2006."
   ]
  },
  {
   "cell_type": "markdown",
   "metadata": {},
   "source": [
    "### 1. Prepare Dataset"
   ]
  },
  {
   "cell_type": "code",
   "execution_count": 1,
   "metadata": {},
   "outputs": [],
   "source": [
    "import findspark\n",
    "findspark.init()"
   ]
  },
  {
   "cell_type": "code",
   "execution_count": 2,
   "metadata": {},
   "outputs": [
    {
     "name": "stdout",
     "output_type": "stream",
     "text": [
      "<pyspark.sql.session.SparkSession object at 0x00000251BDC72D68>\n"
     ]
    }
   ],
   "source": [
    "from pyspark.sql import SparkSession\n",
    "from pyspark.ml.recommendation import ALS\n",
    "from pyspark.ml.evaluation import RegressionEvaluator\n",
    "from pyspark.sql import Row\n",
    "spark = SparkSession \\\n",
    "    .builder \\\n",
    "    .appName(\"Recommendation Systems\") \\\n",
    "    .getOrCreate()\n",
    "print(spark)"
   ]
  },
  {
   "cell_type": "code",
   "execution_count": 3,
   "metadata": {},
   "outputs": [
    {
     "name": "stdout",
     "output_type": "stream",
     "text": [
      "root\n",
      " |-- UserID: string (nullable = true)\n",
      " |-- ProfileID: string (nullable = true)\n",
      " |-- Rating: string (nullable = true)\n",
      "\n"
     ]
    }
   ],
   "source": [
    "ratings = spark.read.csv(\"D://Documents//Semester_8//Apache-Spark//libimseti-complete//libimseti//ratings.csv\", header=True)\n",
    "ratings.printSchema()"
   ]
  },
  {
   "cell_type": "code",
   "execution_count": 4,
   "metadata": {},
   "outputs": [
    {
     "name": "stdout",
     "output_type": "stream",
     "text": [
      "+------+---------+------+\n",
      "|UserID|ProfileID|Rating|\n",
      "+------+---------+------+\n",
      "|     1|      133|     8|\n",
      "|     1|      720|     6|\n",
      "|     1|      971|    10|\n",
      "|     1|     1095|     7|\n",
      "|     1|     1616|    10|\n",
      "|     1|     1978|     7|\n",
      "|     1|     2145|     8|\n",
      "|     1|     2211|     8|\n",
      "|     1|     3751|     7|\n",
      "|     1|     4062|     3|\n",
      "|     1|     4633|    10|\n",
      "|     1|     4842|     5|\n",
      "|     1|     6518|     6|\n",
      "|     1|     7576|     8|\n",
      "|     1|     7724|     7|\n",
      "|     1|     8305|    10|\n",
      "|     1|     8923|     9|\n",
      "|     1|     9345|    10|\n",
      "|     1|     9729|    10|\n",
      "|     1|    10148|    10|\n",
      "+------+---------+------+\n",
      "only showing top 20 rows\n",
      "\n",
      "root\n",
      " |-- UserID: integer (nullable = true)\n",
      " |-- ProfileID: integer (nullable = true)\n",
      " |-- Rating: integer (nullable = true)\n",
      "\n"
     ]
    }
   ],
   "source": [
    "df = ratings.select(ratings.UserID.cast(\"int\"),\n",
    "                   ratings.ProfileID.cast(\"int\"),\n",
    "                   ratings.Rating.cast(\"int\"))\n",
    "df.show()\n",
    "df.printSchema()\n",
    "df.createOrReplaceTempView(\"rating\")"
   ]
  },
  {
   "cell_type": "code",
   "execution_count": 5,
   "metadata": {},
   "outputs": [
    {
     "name": "stdout",
     "output_type": "stream",
     "text": [
      "+---------+------------+----------+----------+------+\n",
      "|ProfileID|total_review|min_rating|max_rating|rating|\n",
      "+---------+------------+----------+----------+------+\n",
      "|   156148|       33389|         6|        10|  10.0|\n",
      "|    31116|       28398|         1|        10|  7.79|\n",
      "|   193687|       23649|         1|        10|   8.3|\n",
      "|   121859|       23639|         1|        10|   9.5|\n",
      "|    83773|       23113|         1|        10|  6.27|\n",
      "|    22319|       21387|         1|        10|  9.92|\n",
      "|    71636|       21284|         5|        10|  9.98|\n",
      "|    89855|       20634|         1|        10|  5.95|\n",
      "|    20737|       18550|         2|        10|  8.23|\n",
      "|   162707|       18224|         1|        10|  4.11|\n",
      "|    68989|       16591|         1|        10|  5.94|\n",
      "|    60983|       16253|         1|        10|  5.91|\n",
      "|    33216|       16049|         1|        10|  8.55|\n",
      "|   179192|       15620|         1|        10|  7.41|\n",
      "|   194553|       14432|         3|        10|  6.15|\n",
      "|   192666|       14335|         1|        10|  2.79|\n",
      "|   180504|       13485|         1|        10|  8.06|\n",
      "|   208748|       13462|         1|        10|  6.26|\n",
      "|    50408|       13451|         1|        10|  7.81|\n",
      "|   102328|       13308|         1|        10|  7.73|\n",
      "+---------+------------+----------+----------+------+\n",
      "only showing top 20 rows\n",
      "\n"
     ]
    }
   ],
   "source": [
    "spark.sql(\"select ProfileID, count(Rating) as total_review, min(Rating) as min_rating, max(Rating) as max_rating, round(avg(rating),2) as rating \\\n",
    "        from rating \\\n",
    "        group by ProfileID \\\n",
    "        order by total_review desc\").show()"
   ]
  },
  {
   "cell_type": "markdown",
   "metadata": {},
   "source": [
    "### 2. ALS (Alternating Least Squares) Algorithm"
   ]
  },
  {
   "cell_type": "code",
   "execution_count": 6,
   "metadata": {},
   "outputs": [],
   "source": [
    "(training, test) = df.randomSplit([0.8, 0.2])"
   ]
  },
  {
   "cell_type": "code",
   "execution_count": 7,
   "metadata": {},
   "outputs": [],
   "source": [
    "als = ALS(maxIter=10, regParam=0.1, userCol=\"UserID\", itemCol=\"ProfileID\", ratingCol=\"Rating\", coldStartStrategy=\"drop\")\n",
    "model = als.fit(training)"
   ]
  },
  {
   "cell_type": "code",
   "execution_count": 8,
   "metadata": {},
   "outputs": [
    {
     "name": "stdout",
     "output_type": "stream",
     "text": [
      "Root-mean-square error = 1.834707247020203\n"
     ]
    }
   ],
   "source": [
    "predictions = model.transform(test)\n",
    "evaluator = RegressionEvaluator(metricName=\"rmse\", labelCol=\"Rating\",\n",
    "                                predictionCol=\"prediction\")\n",
    "rmse = evaluator.evaluate(predictions)\n",
    "print(\"Root-mean-square error = \" + str(rmse))"
   ]
  },
  {
   "cell_type": "code",
   "execution_count": 9,
   "metadata": {},
   "outputs": [
    {
     "name": "stdout",
     "output_type": "stream",
     "text": [
      "+------+--------------------+\n",
      "|UserID|     recommendations|\n",
      "+------+--------------------+\n",
      "|   148|[[181289, 15.7552...|\n",
      "|   463|[[183834, 15.0398...|\n",
      "|   471|[[174257, 14.7062...|\n",
      "|   496|[[217489, 18.1424...|\n",
      "|   833|[[51448, 16.36873...|\n",
      "|  1088|[[43288, 16.83376...|\n",
      "|  1238|[[107284, 15.2142...|\n",
      "|  1342|[[157929, 14.4738...|\n",
      "|  1580|[[209453, 16.8693...|\n",
      "|  1591|[[58307, 13.34065...|\n",
      "|  1645|[[137862, 14.8699...|\n",
      "|  1829|[[211064, 16.5125...|\n",
      "|  1959|[[51448, 14.06783...|\n",
      "|  2122|[[94841, 14.61345...|\n",
      "|  2142|[[107990, 14.5996...|\n",
      "|  2366|[[188024, 14.5479...|\n",
      "|  2659|[[183834, 15.2326...|\n",
      "|  2866|[[183834, 14.2354...|\n",
      "|  3175|[[46427, 20.15452...|\n",
      "|  3749|[[183834, 16.2350...|\n",
      "+------+--------------------+\n",
      "only showing top 20 rows\n",
      "\n"
     ]
    }
   ],
   "source": [
    "# Generate top 10 profile recommendations for each user\n",
    "userRecs = model.recommendForAllUsers(10)\n",
    "userRecs.show()"
   ]
  },
  {
   "cell_type": "code",
   "execution_count": 10,
   "metadata": {},
   "outputs": [
    {
     "name": "stdout",
     "output_type": "stream",
     "text": [
      "+---------+--------------------+\n",
      "|ProfileID|     recommendations|\n",
      "+---------+--------------------+\n",
      "|      496|[[78113, 15.30917...|\n",
      "|      833|[[29513, 13.38827...|\n",
      "|     1238|[[89473, 12.41046...|\n",
      "|     1580|[[28469, 14.64806...|\n",
      "|     1591|[[122019, 11.1961...|\n",
      "|     1645|[[101100, 19.1631...|\n",
      "|     1829|[[68655, 12.36113...|\n",
      "|     1959|[[22638, 8.990044...|\n",
      "|     2122|[[29112, 10.41686...|\n",
      "|     2366|[[69236, 9.455493...|\n",
      "|     2659|[[119676, 21.1902...|\n",
      "|     2866|[[68655, 12.06060...|\n",
      "|     3175|[[12857, 15.51095...|\n",
      "|     3749|[[6447, 18.74696]...|\n",
      "|     3794|[[123696, 14.5935...|\n",
      "|     4101|[[83781, 16.57009...|\n",
      "|     4900|[[44785, 14.63550...|\n",
      "|     4935|[[20625, 11.58235...|\n",
      "|     5300|[[69236, 15.72739...|\n",
      "|     5518|[[72215, 9.627571...|\n",
      "+---------+--------------------+\n",
      "only showing top 20 rows\n",
      "\n"
     ]
    }
   ],
   "source": [
    "# Generate top 10 user recommendations for each profile\n",
    "profileRecs = model.recommendForAllItems(10)\n",
    "profileRecs.show()"
   ]
  },
  {
   "cell_type": "code",
   "execution_count": 11,
   "metadata": {},
   "outputs": [],
   "source": [
    "# Generate top 10 profile recommendations for a specified set of users\n",
    "users = ratings.select(als.getUserCol()).distinct().limit(3)\n",
    "userSubsetRecs = model.recommendForUserSubset(users, 10)"
   ]
  },
  {
   "cell_type": "code",
   "execution_count": 12,
   "metadata": {},
   "outputs": [],
   "source": [
    "# Generate top 10 user recommendations for a specified set of profile\n",
    "profile = ratings.select(als.getItemCol()).distinct().limit(3)\n",
    "profileSubsetRecs = model.recommendForItemSubset(profile, 10)"
   ]
  },
  {
   "cell_type": "code",
   "execution_count": 13,
   "metadata": {},
   "outputs": [
    {
     "name": "stdout",
     "output_type": "stream",
     "text": [
      "+------+--------------------+\n",
      "|UserID|     recommendations|\n",
      "+------+--------------------+\n",
      "|   296|[[107284, 18.1602...|\n",
      "|   675|[[132059, 15.3977...|\n",
      "|   467|[[48924, 17.63759...|\n",
      "+------+--------------------+\n",
      "\n"
     ]
    }
   ],
   "source": [
    "userSubsetRecs.show()"
   ]
  },
  {
   "cell_type": "code",
   "execution_count": 14,
   "metadata": {},
   "outputs": [
    {
     "name": "stdout",
     "output_type": "stream",
     "text": [
      "+---------+--------------------+\n",
      "|ProfileID|     recommendations|\n",
      "+---------+--------------------+\n",
      "|    93893|[[106774, 12.7821...|\n",
      "|    59318|[[95019, 11.38647...|\n",
      "|   204088|[[8800, 10.898197...|\n",
      "+---------+--------------------+\n",
      "\n"
     ]
    }
   ],
   "source": [
    "profileSubsetRecs.show()"
   ]
  },
  {
   "cell_type": "markdown",
   "metadata": {},
   "source": [
    "### 3. References"
   ]
  },
  {
   "cell_type": "markdown",
   "metadata": {},
   "source": [
    "https://spark.apache.org/docs/latest/ml-collaborative-filtering.html"
   ]
  },
  {
   "cell_type": "code",
   "execution_count": null,
   "metadata": {},
   "outputs": [],
   "source": []
  }
 ],
 "metadata": {
  "kernelspec": {
   "display_name": "Python 3",
   "language": "python",
   "name": "python3"
  },
  "language_info": {
   "codemirror_mode": {
    "name": "ipython",
    "version": 3
   },
   "file_extension": ".py",
   "mimetype": "text/x-python",
   "name": "python",
   "nbconvert_exporter": "python",
   "pygments_lexer": "ipython3",
   "version": "3.7.2"
  }
 },
 "nbformat": 4,
 "nbformat_minor": 2
}
